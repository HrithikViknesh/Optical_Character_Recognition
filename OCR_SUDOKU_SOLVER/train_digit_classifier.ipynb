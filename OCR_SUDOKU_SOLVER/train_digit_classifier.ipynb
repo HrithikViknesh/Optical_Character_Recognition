{
 "cells": [
  {
   "cell_type": "markdown",
   "metadata": {
    "toc": true
   },
   "source": [
    "<h1>Table of Contents<span class=\"tocSkip\"></span></h1>\n",
    "<div class=\"toc\"><ul class=\"toc-item\"></ul></div>"
   ]
  },
  {
   "cell_type": "code",
   "execution_count": 8,
   "metadata": {},
   "outputs": [],
   "source": [
    "import tensorflow\n",
    "import os\n",
    "from tensorflow.keras.optimizers import Adam\n",
    "import sklearn\n",
    "from sklearn.preprocessing import LabelBinarizer\n",
    "from sklearn.metrics import classification_report\n",
    "from tensorflow.keras.datasets import mnist\n",
    "from models import sudokunet\n",
    "from tensorflow.keras.preprocessing.image import ImageDataGenerator\n",
    "import matplotlib.pyplot as plt"
   ]
  },
  {
   "cell_type": "code",
   "execution_count": 9,
   "metadata": {},
   "outputs": [],
   "source": [
    "args={\"model\": \"models/digit_classifier1.h5\"}"
   ]
  },
  {
   "cell_type": "code",
   "execution_count": null,
   "metadata": {},
   "outputs": [],
   "source": [
    "mod_path=args[\"model\"]\n",
    "\n",
    "((trainX,trainY),(testX,testY))=mnist.load_data()\n",
    "\n",
    "print(trainX.shape[0])\n",
    "\n",
    "# reshape data from (h,w) to (h,w,depth)..here depth is 1(grayscale)\n",
    "\n",
    "trainX=trainX.reshape(trainX.shape[0],28,28,1)\n",
    "testX=testX.reshape(testX.shape[0],28,28,1)\n",
    "\n",
    "trainX=trainX.astype(\"float32\")/255.0\n",
    "testX=testX.astype(\"float32\")/255.0\n",
    "\n",
    "le=LabelBinarizer()\n",
    "trainY=le.fit_transform(trainY)\n",
    "testY=le.fit_transform(testY)\n",
    "\n",
    "print(\"Building model....\")\n",
    "aug=ImageDataGenerator(rotation_range=30,width_shift_range=0.2,height_shift_range=0.2,zoom_range=0.3,fill_mode=\"nearest\",shear_range=0.25)\n",
    "\n",
    "model=sudokunet.SudokuNet.build(28,28,1,10)\n",
    "\n",
    "EPOCHS=50\n",
    "BATCH_SIZE=128\n",
    "\n",
    "print(\"Compiling model...\")\n",
    "model.compile(optimizer=Adam(),\n",
    "              metrics=[\"accuracy\"],\n",
    "              loss=\"categorical_crossentropy\")\n",
    "\n",
    "save_mod=tensorflow.keras.callbacks.ModelCheckpoint(\"models/digit_classifier1_bestval.h5\",save_best_only=True,monitor=\"val_accuracy\")\n",
    "#lr_scheduler=tensorflow.keras.callbacks.LearningRateScheduler(lambda epoch: 1e-5*10**(epoch/25))\n",
    "\n",
    "print(\"Fitting model...\")\n",
    "\n",
    "history=model.fit(aug.flow(trainX,trainY,batch_size=BATCH_SIZE),\n",
    "                  validation_data=(testX,testY),\n",
    "                  epochs=EPOCHS,\n",
    "                  verbose=1,\n",
    "                  callbacks=[save_mod]\n",
    "                  )\n",
    "predictions=model.predict(testX)\n",
    "\n",
    "print(\"Evaluating model\")\n",
    "print(classification_report(testY.argmax(axis=1),\n",
    "                            predictions.argmax(axis=1)\n",
    "                            ))\n",
    "print(\"Serializing model...\")\n",
    "model.save(mod_path)\n",
    "\n",
    "plt.plot(range(1,EPOCHS+1),history.history[\"loss\"])\n",
    "plt.plot(range(1,EPOCHS+1),history.history[\"val_loss\"])\n",
    "plt.savefig(\"plot_1.png\")\n",
    "\n",
    "plt.plot(range(1,EPOCHS+1),history.history[\"accuracy\"])\n",
    "plt.plot(range(1,EPOCHS+1),history.history[\"val_accuracy\"])\n",
    "plt.savefig(\"plot_2.png\")\n",
    "\n",
    "\n",
    "\n",
    "\n",
    "\n",
    "\n"
   ]
  }
 ],
 "metadata": {
  "kernelspec": {
   "display_name": "Python 3",
   "language": "python",
   "name": "python3"
  },
  "language_info": {
   "codemirror_mode": {
    "name": "ipython",
    "version": 3
   },
   "file_extension": ".py",
   "mimetype": "text/x-python",
   "name": "python",
   "nbconvert_exporter": "python",
   "pygments_lexer": "ipython3",
   "version": "3.7.7"
  },
  "toc": {
   "base_numbering": 1,
   "nav_menu": {},
   "number_sections": true,
   "sideBar": true,
   "skip_h1_title": false,
   "title_cell": "Table of Contents",
   "title_sidebar": "Contents",
   "toc_cell": true,
   "toc_position": {},
   "toc_section_display": true,
   "toc_window_display": true
  }
 },
 "nbformat": 4,
 "nbformat_minor": 4
}
